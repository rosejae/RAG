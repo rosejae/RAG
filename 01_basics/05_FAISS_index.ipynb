{
 "cells": [
  {
   "cell_type": "code",
   "execution_count": 3,
   "id": "5dd94442",
   "metadata": {},
   "outputs": [],
   "source": [
    "import numpy as np \n",
    "import faiss  # faiss 라이브러리 호출"
   ]
  },
  {
   "cell_type": "code",
   "execution_count": 4,
   "id": "377b251b",
   "metadata": {},
   "outputs": [
    {
     "data": {
      "text/plain": [
       "array([[4.17021990e-01, 7.20324516e-01, 1.14374816e-04, ...,\n",
       "        5.38831055e-01, 5.52821994e-01, 8.42030883e-01],\n",
       "       [1.24173313e-01, 2.79183686e-01, 5.85759282e-01, ...,\n",
       "        9.73783553e-01, 6.04716122e-01, 8.28845799e-01],\n",
       "       [5.74711502e-01, 6.28076196e-01, 2.85576284e-01, ...,\n",
       "        5.81577420e-01, 9.89751697e-01, 2.03906223e-01],\n",
       "       ...,\n",
       "       [5.70789576e-01, 9.44105268e-01, 3.55858296e-01, ...,\n",
       "        2.26064011e-01, 9.37489152e-01, 7.52344429e-01],\n",
       "       [3.34620804e-01, 4.76446241e-01, 2.63767540e-01, ...,\n",
       "        4.18909609e-01, 3.09424341e-01, 7.24189103e-01],\n",
       "       [5.95713854e-01, 5.31086147e-01, 4.29194756e-02, ...,\n",
       "        7.86913514e-01, 6.50519311e-01, 1.31239966e-01]], dtype=float32)"
      ]
     },
     "execution_count": 4,
     "metadata": {},
     "output_type": "execute_result"
    }
   ],
   "source": [
    "dimension = 128    # 각 벡터의 차원                \n",
    "n = 200    # 벡터 수                   \n",
    "np.random.seed(1)             \n",
    "db_vectors = np.random.random((n, dimension)).astype('float32') #(200 * 128) 벡터 행렬\n",
    "db_vectors"
   ]
  },
  {
   "cell_type": "code",
   "execution_count": 5,
   "id": "13c26805",
   "metadata": {},
   "outputs": [],
   "source": [
    "nlist = 5  # 클러스터(셀이라고도 표현) 수\n",
    "quantiser = faiss.IndexFlatL2(dimension)  #quantizer를 활용해서 클러스터 생성\n",
    "index = faiss.IndexIVFFlat(quantiser, dimension, nlist, faiss.METRIC_L2)  #Inverted File 만들기\n",
    "#index = faiss.IndexPQ(D, m, nbits)\n",
    "#index = faiss.IndexIVFPQ(vecs, D, nlist, m, nbits)"
   ]
  },
  {
   "cell_type": "markdown",
   "id": "48a8bc8b",
   "metadata": {},
   "source": [
    "인덱스를 기반으로 훈련을 시켜야함\n",
    "- index를 만들어서 쓰는게 FAISS에서 제공이 되고 있음\n",
    "\n",
    "문제는 이런식으로 index를 이렇게 만들어서 쓰는게, \n",
    "- 기본적으로 제공되는 것 대비 속도가 좋다는 것을 아무도 보장할 수 없음\n",
    "- 많은 노하우가 필요함"
   ]
  },
  {
   "cell_type": "code",
   "execution_count": 6,
   "id": "ffc4fc31",
   "metadata": {},
   "outputs": [
    {
     "name": "stdout",
     "output_type": "stream",
     "text": [
      "False\n",
      "0\n"
     ]
    }
   ],
   "source": [
    "print(index.is_trained)   # False\n",
    "index.train(db_vectors)  # 데이터베이스 벡터에 대한 훈련\n",
    "print(index.ntotal)"
   ]
  },
  {
   "cell_type": "code",
   "execution_count": 7,
   "id": "c9422256",
   "metadata": {},
   "outputs": [
    {
     "name": "stdout",
     "output_type": "stream",
     "text": [
      "True\n",
      "200\n"
     ]
    }
   ],
   "source": [
    "index.add(db_vectors)   # 벡터를 추가하고 인덱스를 업데이트\n",
    "print(index.is_trained)  # True\n",
    "print(index.ntotal) "
   ]
  },
  {
   "cell_type": "markdown",
   "id": "26d1f437",
   "metadata": {},
   "source": [
    "기본적으로 FAISS가 built-in 되어 있는 similarity search를 쓰는게 아니라,\n",
    "- (langchain에서 제공하는 FAISS에서 제공하는 similarity search)\n",
    "- index를 우리가 만들었고, 그 index에서 검색해 오도록 설정을 했음"
   ]
  },
  {
   "cell_type": "code",
   "execution_count": 8,
   "id": "3ff3fa05",
   "metadata": {},
   "outputs": [],
   "source": [
    "#nprobe = 2  # 가장 유사한 클러스터 2개 찾기\n",
    "n_query = 10  # 10개의 쿼리 벡터\n",
    "k = 3  # 가장 가까운 이웃 3개를 반환\n",
    "np.random.seed(1)  # 일관된 결과를 얻기 위해 시드 설정 \n",
    "query_vectors = np.random.random((n_query, dimension)).astype('float32') #쿼리 벡터 생성\n",
    "distances, indices = index.search(query_vectors, k) #검색 수행"
   ]
  },
  {
   "cell_type": "code",
   "execution_count": 9,
   "id": "ea831f0f",
   "metadata": {},
   "outputs": [
    {
     "data": {
      "text/plain": [
       "array([[ 0.      , 17.15714 , 18.844372],\n",
       "       [ 0.      , 17.987484, 18.616207],\n",
       "       [ 0.      , 15.770564, 16.0127  ],\n",
       "       [ 0.      , 16.52227 , 16.846798],\n",
       "       [ 0.      , 18.070686, 18.418453],\n",
       "       [ 0.      , 16.012554, 16.118513],\n",
       "       [ 0.      , 14.298641, 15.909523],\n",
       "       [ 0.      , 14.296753, 16.200497],\n",
       "       [ 0.      , 16.161392, 16.6162  ],\n",
       "       [ 0.      , 16.274105, 17.641554]], dtype=float32)"
      ]
     },
     "execution_count": 9,
     "metadata": {},
     "output_type": "execute_result"
    }
   ],
   "source": [
    "distances"
   ]
  },
  {
   "cell_type": "code",
   "execution_count": 10,
   "id": "2472830a",
   "metadata": {},
   "outputs": [
    {
     "data": {
      "text/plain": [
       "array([[  0,  93,  20],\n",
       "       [  1, 159, 144],\n",
       "       [  2, 173,  84],\n",
       "       [  3,   6,  84],\n",
       "       [  4, 118,  51],\n",
       "       [  5,  98,  47],\n",
       "       [  6, 185,  52],\n",
       "       [  7,  42, 165],\n",
       "       [  8,  55,  82],\n",
       "       [  9,  14,  83]])"
      ]
     },
     "execution_count": 10,
     "metadata": {},
     "output_type": "execute_result"
    }
   ],
   "source": [
    "indices"
   ]
  },
  {
   "cell_type": "markdown",
   "id": "3400a739",
   "metadata": {},
   "source": [
    "사실 이 과정들이 쉬운게 아님\n",
    "- index 자체도 어떤 것을 쓸지 많이 고민해야함 \n",
    "- train과정에서도 H/W가 많이 사용됨"
   ]
  },
  {
   "cell_type": "code",
   "execution_count": null,
   "id": "99548c2e",
   "metadata": {},
   "outputs": [],
   "source": [
    "faiss.write_index(index, \"vector.index\")  # 인덱스를 디스크에 저장\n",
    "index = faiss.read_index(\"vector.index\")  # 인덱스를 로드"
   ]
  }
 ],
 "metadata": {
  "kernelspec": {
   "display_name": "torch",
   "language": "python",
   "name": "python3"
  },
  "language_info": {
   "codemirror_mode": {
    "name": "ipython",
    "version": 3
   },
   "file_extension": ".py",
   "mimetype": "text/x-python",
   "name": "python",
   "nbconvert_exporter": "python",
   "pygments_lexer": "ipython3",
   "version": "3.11.8"
  }
 },
 "nbformat": 4,
 "nbformat_minor": 5
}
